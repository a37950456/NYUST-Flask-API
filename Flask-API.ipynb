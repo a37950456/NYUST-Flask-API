{
 "cells": [
  {
   "cell_type": "code",
   "execution_count": 1,
   "metadata": {},
   "outputs": [
    {
     "name": "stdout",
     "output_type": "stream",
     "text": [
      "Collecting flask\n",
      "  Downloading Flask-0.12.2-py2.py3-none-any.whl (83kB)\n",
      "\u001b[K    100% |████████████████████████████████| 92kB 1.2MB/s ta 0:00:01\n",
      "\u001b[?25hRequirement already satisfied: Jinja2>=2.4 in /usr/local/lib/python3.5/dist-packages (from flask)\n",
      "Collecting Werkzeug>=0.7 (from flask)\n",
      "  Downloading Werkzeug-0.14.1-py2.py3-none-any.whl (322kB)\n",
      "\u001b[K    100% |████████████████████████████████| 327kB 1.5MB/s ta 0:00:01\n",
      "\u001b[?25hCollecting click>=2.0 (from flask)\n",
      "  Downloading click-6.7-py2.py3-none-any.whl (71kB)\n",
      "\u001b[K    100% |████████████████████████████████| 71kB 2.7MB/s ta 0:00:011\n",
      "\u001b[?25hCollecting itsdangerous>=0.21 (from flask)\n",
      "  Downloading itsdangerous-0.24.tar.gz (46kB)\n",
      "\u001b[K    100% |████████████████████████████████| 51kB 4.9MB/s eta 0:00:01\n",
      "\u001b[?25hRequirement already satisfied: MarkupSafe>=0.23 in /usr/local/lib/python3.5/dist-packages (from Jinja2>=2.4->flask)\n",
      "Building wheels for collected packages: itsdangerous\n",
      "  Running setup.py bdist_wheel for itsdangerous ... \u001b[?25ldone\n",
      "\u001b[?25h  Stored in directory: /home/b10317015/.cache/pip/wheels/fc/a8/66/24d655233c757e178d45dea2de22a04c6d92766abfb741129a\n",
      "Successfully built itsdangerous\n",
      "Installing collected packages: Werkzeug, click, itsdangerous, flask\n",
      "Successfully installed Werkzeug-0.14.1 click-6.7 flask-0.12.2 itsdangerous-0.24\n"
     ]
    }
   ],
   "source": [
    "! pip install --user flask"
   ]
  },
  {
   "cell_type": "code",
   "execution_count": 39,
   "metadata": {},
   "outputs": [],
   "source": [
    "from flask import Flask, request, make_response, jsonify\n",
    "from PTT_crawler import PttCrawler\n",
    "\n",
    "app = Flask('flask-api')\n",
    "\n",
    "@app.route('/')   #@ decorater 在app裡面加上route(地方)  此為在api的根目錄底下\n",
    "def hello_world():\n",
    "    message = {'message' :'hello world'}\n",
    "    return jsonify(message)\n",
    "\n",
    "@app.route('/PTT_crawler', methods=['GET', 'POST'])\n",
    "def run_crawler():\n",
    "    if request.method =='GET':\n",
    "        crawler = PttCrawler('Gossiping',page=1)\n",
    "    elif request.method =='POST':\n",
    "        board = request.get_json().get('board','Gossiping')\n",
    "        page = request.get_json().get('page', 1)\n",
    "        \n",
    "        crawler = PttCrawler(board,page = page)\n",
    "        \n",
    "    result = crawler.run()\n",
    "    return jsonify(result)"
   ]
  },
  {
   "cell_type": "code",
   "execution_count": 24,
   "metadata": {},
   "outputs": [
    {
     "name": "stdout",
     "output_type": "stream",
     "text": [
      "b'{\\n  \"message\": \"hello world\"\\n}\\n'\n",
      "{'message': 'hello world'}\n",
      "==============================\n",
      "[{'content': '林務局「森林跳棋」像情趣用品？原創者回應了', 'time': 'Thu Jan  4 14:00:58 2018', 'title': '[新聞] 林務局「森林跳棋」像情趣用品？原創者回 - 看板 Gossiping - 批踢踢實業坊', 'author': 'zzzz8931 (宅男)'}, {'content': '如題\\n\\n每次不小心切到全形\\n\\n怒氣值都會爆衝\\n\\n明明使用頻率遠輸英文大小寫，中文半形\\n\\n卻硬要跑出來佔一格超大的空間\\n\\n有沒有很眼熟?\\n\\n根本就跟八卦版的肥宅一樣無用又佔空間啊\\n\\n不小心碰到肥宅還會覺的很噁心!!!!\\n\\n\\n\\n-----\\nSent from JPTT on my Asus ASUS_Z012DA.\\n\\n--', 'time': 'Thu Jan  4 14:01:39 2018', 'title': '[問卦] 全形是不是新注音輸入法中的肥宅? - 看板 Gossiping - 批踢踢實業坊', 'author': 'science556 (啾啾人)'}, {'content': '砍大稻埕煙火響應環保？ 柯：是議員刪的\\n\\n2018-01-04 12:32\\n\\n台北市長柯文哲說大稻埕煙火節有編預算，但被議員刪掉。圖為柯文哲今參加4座共融式遊戲場啟用記者會，好奇地看小朋友操作遊戲設施。（記者王藝菘攝）\\n\\n〔記者沈佩瑤／台北報導〕全台深陷霾害影響、空氣品質低落，部分縣市宣布一年一度的跨年活動不放煙火，響應環保。但台北市不只跨年照慣例放煙火，每年8月登場的大稻埕煙火節，同樣編列預算打算繼續辦。然而觀傳局長簡余晏3日備詢時表示，由於議會教育委員會已取消河岸音樂祭的400萬預算，「今年完全沒有煙火。」\\n\\n上午台北市長柯文哲出席活動後，被問到對於取消大稻埕煙火，是否為響應環保時直言「沒有啦，我們是有編預算，但被議員刪掉」，還說要去查查看是哪議員刪的。\\n\\n至於是否支持繼續大稻程煙火，柯重申他認為空污是每一天的事情，例如節慶鞭炮也是減量，但不會一下就把它消滅掉，所以他對大稻埕煙火的態度是已經放很多年了，也許可以加一些光雕，像今年跨年就增加光雕，讓煙火減量，從3萬發變成1萬6千發，這也許是比較正確的做法，「完全廢掉我覺得沒有必要。」', 'time': 'Thu Jan  4 14:01:59 2018', 'title': '[新聞] 砍大稻埕煙火響應環保？ 柯：是議員刪的 - 看板 Gossiping - 批踢踢實業坊', 'author': 'serialhon (人生如夢)'}, {'content': '小魯有個工程師朋友\\n\\n原本在一家科技業小公司上班\\n\\n月薪實領約十萬元\\n\\n去年最後一天被裁員\\n\\n公司資遣證明寫勞基法第十一條第五款 員工無法勝任工作\\n\\n給了二十萬元叫朋友走路\\n\\n本來想說好好放個假 再去找新工作\\n\\n但朋友的律師跟他說 公司沒辦法證明不適任\\n\\n也沒用盡各種輔導懲戒手段就資遣\\n\\n是違法資遣\\n\\n還舉了好幾個案例 包含這個', 'time': 'Thu Jan  4 14:03:38 2018', 'title': '[問卦] 每個月領十萬元不用上班要幹嘛 - 看板 Gossiping - 批踢踢實業坊', 'author': 'yamakazi (大安吳彥祖)'}, {'content': '', 'time': 'Thu Jan  4 14:04:52 2018', 'title': 'Re: [新聞] 陳喬恩酒駕遭逮 宅神：若處罰夠重一次就 - 看板 Gossiping - 批踢踢實業坊', 'author': 'L1ON (我是獅子~(ﾉﾟ▽ﾟ)ﾉ♪)'}, {'content': '現在都市光害很嚴重\\n\\n有時候看不太到月亮\\n\\n有我想要更好更圓的月亮的八卦嗎?\\n\\n--', 'time': 'Thu Jan  4 14:05:12 2018', 'title': '[問卦] 我想要更好更圓的月亮 - 看板 Gossiping - 批踢踢實業坊', 'author': 'say29217074 (:)))))'}, {'content': '', 'time': 'Thu Jan  4 14:05:25 2018', 'title': 'Re: [新聞] 電動機車電池規格 Gogoro化  - 看板 Gossiping - 批踢踢實業坊', 'author': 'ptt987654321 (低調)'}, {'content': '看影片真的會覺得很鬧', 'time': 'Thu Jan  4 14:05:23 2018', 'title': '[新聞] 中國推出檢舉app\\u3000民眾反應冷淡不買帳 - 看板 Gossiping - 批踢踢實業坊', 'author': 'k10055960 (太陽不過是個幻象)'}, {'content': '我們學校的學生會長\\n\\n只要在她面前講錯話\\n\\n她就會說\\n\\nbubu~~~~~desuwa\\n\\n可是我完全不知道為什麼要講bubudesuwa\\n\\n有沒有bubu~desuwa的八卦\\n\\n姆咪\\n\\n--', 'time': 'Thu Jan  4 14:06:57 2018', 'title': '[問卦] bubu~desuwa - 看板 Gossiping - 批踢踢實業坊', 'author': 'limoncool (戰鬥女子學園特聘工讀生)'}, {'content': '╭─────────────────────────────────────╮\\n│ 本板為PTT八卦板，文章、推文及板務處理原則均依循中華民國法律、站規規範發\\u3000│\\n│ 文者，不得因不知相關板規而免卻責任。                                     │\\n╰─────────────────────────────────────╯', 'time': 'Sat Nov 11 23:55:13 2017', 'title': '[公告] 八卦板板規(2017.11.11) - 看板 Gossiping - 批踢踢實業坊', 'author': 'Kay731 (K少)'}, {'content': '阿嬤離家後失蹤了\\n天氣很冷 希望阿嬤能快點回家\\n\\n-', 'time': 'Sun Dec 31 19:47:40 2017', 'title': '[協尋] 新北市78歲婦人(代po) - 看板 Gossiping - 批踢踢實業坊', 'author': 'Unawakened (微瘦敏鎬)'}, {'content': '', 'time': 'Wed Dec 27 08:59:55 2017', 'title': 'Fw: [協尋] 12/24下午新北耶誕城廣場遺失鑽石項鍊 - 看板 Gossiping - 批踢踢實業坊', 'author': 'Kay731 (K少)'}, {'content': None, 'time': None, 'title': '閱讀文章 - 看板 Gossiping - 批踢踢實業坊', 'author': None}]\n"
     ]
    }
   ],
   "source": [
    "import json\n",
    "\n",
    "resp = app.test_client().get('/')\n",
    "print(resp.data)\n",
    "print(json.loads(resp.data.decode()))\n",
    "print('==============================')\n",
    "\n",
    "resp = app.test_client().get('/PTT_crawler')\n",
    "print(json.loads(resp.data.decode()))\n"
   ]
  },
  {
   "cell_type": "code",
   "execution_count": 42,
   "metadata": {},
   "outputs": [
    {
     "name": "stdout",
     "output_type": "stream",
     "text": [
      "[{'content': '我只是來曬貓的(｡･ω･｡)\\n以下我鵝子的口吻～～\\n\\n\\n嗨(=ﾟωﾟ)ﾉ大家好，我是KuLi\\n是剛滿四個月的開朗活潑獅子男\\n出生在台南 生長在台南', 'time': 'Thu Jan  4 12:41:27 2018', 'title': '[心得/閃光] 來曬個貓 - 看板 cat - 批踢踢實業坊', 'author': 'alisa1112 (依宸兒)'}, {'content': '#標題應為 [問題/OO]，發文完請再一次確認標題格式無誤。\\n#發文之後請務必回應熱心板友的回文或推文，這是基本禮貌。\\n#發文表示您已讀過置底板規，一旦發生違反板規之情事，同意可能受到板規處罰。\\n#請用[CTRL+K]刪除這些預設文字。\\n------------------------------------------------------------------------\\n流浪小貓被車撞，\\n開放性骨折，\\n在高雄中興動物醫治，\\n醫藥費目前為一萬七，\\n已募到一萬二，\\n希望愛心人士能幫忙。\\n\\n錢不會過到我的手，\\n詳細資訊可站內信給我，\\n我再請朋友跟您聯絡，\\n謝謝您。', 'time': 'Thu Jan  4 12:43:49 2018', 'title': '[問題] 有人願意捐款救小貓嗎？ - 看板 cat - 批踢踢實業坊', 'author': 'ethelya (ethelyen)'}, {'content': '有人的貓比我家的還壞嗎?\\n1.最晚是4點半叫我起床，最早是2點半，如此已經三年了\\n2.如果我不起床就製造噪音。\\nA踩馬桶水箱蓋，發出聲響\\nB腳踩托鞋，咬著啪啪啪拍地\\nC咬衛生紙塑膠袋，發出聲響或拖出衛生紙。\\n3.如果我再不起床，當天就不在沙盆大便，會在浴室地板,浴缸或陽台大便，給我好看。\\n4.看到我就吵著要吃，不管幾次，有時吃到吐了，還是吵，反正我坐著看電視，她就在碗\\n前喵喵叫。\\n5.無聊就去逛樓梯間，一個早上最多可出去三次，自己去自己回，但要我開門。\\n回家要進門時就喵一聲或拉鐵門製造音響。\\n貓有心機，會報復，我肯定。\\n心好累....', 'time': 'Thu Jan  4 13:26:53 2018', 'title': '[心得] - 看板 cat - 批踢踢實業坊', 'author': 'gueifu (gueifu)'}, {'content': '小黑的小孩小豬豬即將滿月了', 'time': 'Thu Jan  4 14:00:26 2018', 'title': '[心得/奶貓] 小黑的小豬豬 - 看板 cat - 批踢踢實業坊', 'author': 'SEREN1TY (@Johannesburg)'}, {'content': '自從天冷之後 我們家笨笨只要睡覺就會自動鑽進來棉被取暖\\n 覺得很Q可是又很怕翻身壓到XD\\n\\n大家也來分享一下取暖照吧～', 'time': 'Thu Jan  4 14:02:22 2018', 'title': '[心得/閃光] 擠進棉被一起睡 - 看板 cat - 批踢踢實業坊', 'author': 'j830430 (j830430)'}, {'content': '因為1/14要出國，1/18回台\\n希望可以徵到台中的貓友寄宿\\n\\n貓咪狀況\\n男大貓：7歲，已結紮，親貓親人的公關貓\\n女小貓：1歲，已結紮，親貓微怕生\\n\\n寄宿時間：1/13晚上-1/18下午\\n希望能徵到台中的貓友幫忙照顧、飼料、貓砂、貓砂盆我可以提供\\n\\n費用和其他細節我們站內信討論哦！\\n（貓旅館有點太貴...QQ）\\n\\n--', 'time': 'Thu Jan  4 14:06:45 2018', 'title': '[徵求] 台中貓咪寄宿 - 看板 cat - 批踢踢實業坊', 'author': 'hyde396 (ELisahsiao)'}, {'content': '遺失地點:捷運後山埤站2號出口附近(偏信義區)\\n\\n貓咪花色及特徵:灰色虎斑貓，穿白襪(白腳)，肉肉的，個性膽小\\n\\n貓咪性別:男\\n\\n貓咪名字:笨蛋\\n\\n是否結紮:是\\n\\n有無項圈(款式):有紅白相間項圈，上有紫色吊牌，吊牌上寫有\"笨蛋\"\\n\\n相片(必須提供):', 'time': 'Thu Jan  4 14:19:38 2018', 'title': '[協尋/台北市] 灰色虎斑貓(捷運後山埤站) - 看板 cat - 批踢踢實業坊', 'author': 'm31566 (sky)'}, {'content': '貓咪所在地:新北-板橋\\n\\n聯絡人稱呼:窘窘\\n\\n連絡:站內信 / 郵件:', 'time': 'Thu Jan  4 14:21:59 2018', 'title': '[認養/新北] 板橋-漂亮米克斯找鏟屎 - 看板 cat - 批踢踢實業坊', 'author': 'vicchiao (小玉)'}, {'content': '想湊4000免運  買多會有折扣 目前知道一包會比官網便宜5元\\n自己大約買2000元  如果週日徵不到就流標自己買～\\n\\n物品名稱:心僕 商業生食\\n\\n尺寸大小:100g/一包 另外有300g 500g的包裝\\n\\n\\n商品描述:', 'time': 'Thu Jan  4 14:22:36 2018', 'title': '[交易/合購]  心僕生食-高雄三民/左營 - 看板 cat - 批踢踢實業坊', 'author': 'boku840309 (garyiscoming)'}, {'content': '', 'time': 'Wed Jul 18 01:09:50 2012', 'title': '[公告] 全台24小時急診醫院一覽表2012版 - 看板 cat - 批踢踢實業坊', 'author': 'crazybaby (  小金(Kim))'}, {'content': '', 'time': 'Mon Oct 10 18:34:03 2016', 'title': '[公告] 貓板發文須知與板規(修) - 看板 cat - 批踢踢實業坊', 'author': 'crazybaby (  小金(Kim))'}, {'content': '@本文改編自前任板主群與幾位板友文章，請撿到浪貓的新手務必詳細閱讀後再發問。\\n@歡迎板友來信提供問與答，問答請盡量簡潔，方便新手快速學習。\\n\\n*****************************************************************************', 'time': 'Mon Jan  9 22:41:07 2017', 'title': '[公告] 給救援浪貓與養貓新手--快速學習指南(新) - 看板 cat - 批踢踢實業坊', 'author': 'crazybaby (  小金(Kim))'}, {'content': '遺失地點:新北市新莊區西盛街344巷\\n\\n貓咪花色及特徵:橘貓條紋\\n\\n貓咪性別:母\\n\\n貓咪名字:雞腿\\n\\n是否結紮:否\\n\\n有無項圈(款式):無\\n\\n相片(必須提供):', 'time': 'Sun Nov 26 16:11:50 2017', 'title': '[協尋/新北市] 新北市新莊區西盛街344巷 - 看板 cat - 批踢踢實業坊', 'author': 'poki08957 (孤島)'}]\n"
     ]
    }
   ],
   "source": [
    "resp = app.test_client().post(\n",
    "    '/PTT_crawler',\n",
    "    data=json.dumps({'board':'cat','page':1}),\n",
    "    content_type='application/json')\n",
    "\n",
    "print(json.loads(resp.data.decode())) #[0:3]\n",
    "\n"
   ]
  },
  {
   "cell_type": "code",
   "execution_count": null,
   "metadata": {
    "collapsed": true
   },
   "outputs": [],
   "source": []
  }
 ],
 "metadata": {
  "kernelspec": {
   "display_name": "Python 3",
   "language": "python",
   "name": "python3"
  },
  "language_info": {
   "codemirror_mode": {
    "name": "ipython",
    "version": 3
   },
   "file_extension": ".py",
   "mimetype": "text/x-python",
   "name": "python",
   "nbconvert_exporter": "python",
   "pygments_lexer": "ipython3",
   "version": "3.5.2"
  }
 },
 "nbformat": 4,
 "nbformat_minor": 2
}
